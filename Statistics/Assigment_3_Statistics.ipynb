{
 "cells": [
  {
   "cell_type": "markdown",
   "id": "1bec3de9",
   "metadata": {},
   "source": [
    "### Q1. What is the Probability density function?\n",
    "\n",
    "\n",
    "Ans -- \n",
    "The Probability Density Function (PDF) is a mathematical function that describes the relative likelihood of observing a random variable within a specific range of values. "
   ]
  },
  {
   "cell_type": "markdown",
   "id": "563947a1",
   "metadata": {},
   "source": [
    "### Q2. What are the types of Probability distribution?\n",
    "\n",
    "\n",
    "Ans -- There are six types of Probablity Distribution --\n",
    "I) Normal / Gaussian Distribution\n",
    "II) Bernaulli Distribution \n",
    "III) Uniform Distruibution \n",
    "IV) Poission Distribution \n",
    "V) Log Normal Distribution \n",
    "VI) Binomial Distribution "
   ]
  },
  {
   "cell_type": "markdown",
   "id": "0ed28842",
   "metadata": {},
   "source": [
    "### Q3. Write a Python function to calculate the probability density function of a normal distribution with given mean and standard deviation at a given point."
   ]
  },
  {
   "cell_type": "code",
   "execution_count": 1,
   "id": "556923df",
   "metadata": {},
   "outputs": [],
   "source": [
    "import math\n",
    "\n",
    "def normal_pdf(x, mu, sigma):\n",
    "    \n",
    "    return (1 / (sigma * math.sqrt(2*math.pi))) * math.exp(-((x - mu)**2) / (2 * sigma**2))\n"
   ]
  },
  {
   "cell_type": "code",
   "execution_count": 2,
   "id": "524184fa",
   "metadata": {},
   "outputs": [
    {
     "name": "stdout",
     "output_type": "stream",
     "text": [
      "0.10798193302637613\n"
     ]
    }
   ],
   "source": [
    "pdf_value = normal_pdf(0, 1, 0.5)\n",
    "print(pdf_value)\n"
   ]
  },
  {
   "cell_type": "markdown",
   "id": "073b5b71",
   "metadata": {},
   "source": [
    "### Q4. What are the properties of Binomial distribution? Give two examples of events where binomial distribution can be applied.\n",
    "\n",
    "\n",
    "Ans -- The properties of the binomial distribution include:\n",
    "\n",
    "1) The probability of success is constant for each trial.\n",
    "2) The trials are independent of each other.\n",
    "3) There are a fixed number of trials.\n",
    "4) Each trial has only two possible outcomes.\n",
    "\n",
    "\n",
    "Two examples of events where binomial distribution can be applied are:\n",
    "\n",
    "Flipping a coin a fixed number of times and counting the number of heads obtained. Here, the probability of success (getting a head) is constant for each trial, the trials are independent, there is a fixed number of trials, and each trial has only two possible outcomes (head or tail).\n",
    "\n",
    "Testing a drug on a fixed number of patients and counting the number of patients who respond positively. Here, the probability of success (i.e., responding positively to the drug) is constant for each patient, the patients are independent, there is a fixed number of patients, and each patient can either respond positively or not.\n"
   ]
  },
  {
   "cell_type": "markdown",
   "id": "10625ff8",
   "metadata": {},
   "source": [
    "### Q5. Generate a random sample of size 1000 from a binomial distribution with probability of success 0.4 and plot a histogram of the results using matplotlib."
   ]
  },
  {
   "cell_type": "code",
   "execution_count": 11,
   "id": "9ee38045",
   "metadata": {},
   "outputs": [
    {
     "data": {
      "image/png": "[encoded data removed]",
      "text/plain": [
       "<Figure size 640x480 with 1 Axes>"
      ]
     },
     "metadata": {},
     "output_type": "display_data"
    }
   ],
   "source": [
    "import numpy as np\n",
    "import matplotlib.pyplot as plt\n",
    "\n",
    "\n",
    "n = 10 \n",
    "p = 0.4\n",
    "\n",
    "sample = np.random.binomial(n, p , size = 1000)\n",
    "\n",
    "plt.hist(sample,bins = 'auto')\n",
    "plt.xlabel('Number of successes')\n",
    "plt.ylabel('Frequency')\n",
    "plt.title('Binomial Distribution ')\n",
    "plt.show()"
   ]
  },
  {
   "cell_type": "markdown",
   "id": "9fc242c5",
   "metadata": {},
   "source": [
    "### Q6. Write a Python function to calculate the cumulative distribution function of a Poisson distribution with given mean at a given point."
   ]
  },
  {
   "cell_type": "code",
   "execution_count": 12,
   "id": "37839979",
   "metadata": {},
   "outputs": [],
   "source": [
    "from scipy.stats import poisson"
   ]
  },
  {
   "cell_type": "code",
   "execution_count": 15,
   "id": "45f8e06f",
   "metadata": {},
   "outputs": [],
   "source": [
    "def poisson_cdf(x, mu):\n",
    "    cdf = poisson.cdf(x,mu)\n",
    "    return cdf\n",
    "cdf_value = poisson_cdf(2, 3)\n"
   ]
  },
  {
   "cell_type": "code",
   "execution_count": 16,
   "id": "f3e3781b",
   "metadata": {},
   "outputs": [
    {
     "data": {
      "text/plain": [
       "0.42319008112684364"
      ]
     },
     "execution_count": 16,
     "metadata": {},
     "output_type": "execute_result"
    }
   ],
   "source": [
    "cdf_value"
   ]
  },
  {
   "cell_type": "code",
   "execution_count": null,
   "id": "5548bde2",
   "metadata": {},
   "outputs": [],
   "source": []
  }
 ],
 "metadata": {
  "kernelspec": {
   "display_name": "Python 3 (ipykernel)",
   "language": "python",
   "name": "python3"
  },
  "language_info": {
   "codemirror_mode": {
    "name": "ipython",
    "version": 3
   },
   "file_extension": ".py",
   "mimetype": "text/x-python",
   "name": "python",
   "nbconvert_exporter": "python",
   "pygments_lexer": "ipython3",
   "version": "3.11.2"
  }
 },
 "nbformat": 4,
 "nbformat_minor": 5
}
