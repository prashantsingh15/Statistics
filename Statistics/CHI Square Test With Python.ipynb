{
 "cells": [
  {
   "cell_type": "markdown",
   "id": "aba2f572",
   "metadata": {},
   "source": [
    "## Chi Square Test With Python"
   ]
  },
  {
   "cell_type": "code",
   "execution_count": 1,
   "id": "44353753",
   "metadata": {},
   "outputs": [],
   "source": [
    "import scipy.stats as stat\n",
    "import numpy as np"
   ]
  },
  {
   "cell_type": "code",
   "execution_count": 16,
   "id": "712da5da",
   "metadata": {},
   "outputs": [],
   "source": [
    "# Number of hour students study in the weekly basis daily\n",
    "# monday,tuesday,wednesday,thursday,friday,saturday,sunday\n",
    "expected_data = [8,6,7,9,6,9,7]\n",
    "observed_data = [7,8,6,9,9,6,7] # Submission is always equale in both value.."
   ]
  },
  {
   "cell_type": "code",
   "execution_count": 6,
   "id": "25b56df0",
   "metadata": {},
   "outputs": [
    {
     "data": {
      "text/plain": [
       "(52, 52)"
      ]
     },
     "execution_count": 6,
     "metadata": {},
     "output_type": "execute_result"
    }
   ],
   "source": [
    "sum(expected_data),sum(observed_data)"
   ]
  },
  {
   "cell_type": "code",
   "execution_count": 7,
   "id": "55554ec7",
   "metadata": {},
   "outputs": [],
   "source": [
    "## Chi -Square Goodeness Of Fit Test\n",
    "\n",
    "\n",
    "chisquare_test_statistics,p_value = stat.chisquare(observed_data,expected_data)"
   ]
  },
  {
   "cell_type": "code",
   "execution_count": 8,
   "id": "cf17603a",
   "metadata": {},
   "outputs": [
    {
     "data": {
      "text/plain": [
       "(3.4345238095238093, 0.7526596580922865)"
      ]
     },
     "execution_count": 8,
     "metadata": {},
     "output_type": "execute_result"
    }
   ],
   "source": [
    "chisquare_test_statistics,p_value"
   ]
  },
  {
   "cell_type": "code",
   "execution_count": 13,
   "id": "3f776e3d",
   "metadata": {},
   "outputs": [
    {
     "name": "stdout",
     "output_type": "stream",
     "text": [
      "6\n"
     ]
    }
   ],
   "source": [
    "## Find the critical value\n",
    "\n",
    "significance_value = 0.05\n",
    "\n",
    "dof = len(expected_data) - 1 # Here we done -1 becozz degree of freedom formula is = k -1\n",
    "\n",
    "print(dof)\n",
    "\n",
    "critical_vale = stat.chi2.ppf(1-significance_value,dof)## Percent point function (inverse of `cdf`) at q of the given RV."
   ]
  },
  {
   "cell_type": "code",
   "execution_count": 15,
   "id": "67161dbe",
   "metadata": {},
   "outputs": [
    {
     "data": {
      "text/plain": [
       "12.591587243743977"
      ]
     },
     "execution_count": 15,
     "metadata": {},
     "output_type": "execute_result"
    }
   ],
   "source": [
    "critical_vale"
   ]
  },
  {
   "cell_type": "code",
   "execution_count": 14,
   "id": "54c93924",
   "metadata": {},
   "outputs": [
    {
     "name": "stdout",
     "output_type": "stream",
     "text": [
      "accept the null hypothesis\n"
     ]
    }
   ],
   "source": [
    "if chisquare_test_statistics > critical_vale:\n",
    "    print(\"we reject the null hypothesis\")\n",
    "    \n",
    "else:\n",
    "    print(\"accept the null hypothesis\")"
   ]
  },
  {
   "cell_type": "code",
   "execution_count": null,
   "id": "20257fd5",
   "metadata": {},
   "outputs": [],
   "source": []
  }
 ],
 "metadata": {
  "kernelspec": {
   "display_name": "Python 3 (ipykernel)",
   "language": "python",
   "name": "python3"
  },
  "language_info": {
   "codemirror_mode": {
    "name": "ipython",
    "version": 3
   },
   "file_extension": ".py",
   "mimetype": "text/x-python",
   "name": "python",
   "nbconvert_exporter": "python",
   "pygments_lexer": "ipython3",
   "version": "3.11.2"
  }
 },
 "nbformat": 4,
 "nbformat_minor": 5
}
