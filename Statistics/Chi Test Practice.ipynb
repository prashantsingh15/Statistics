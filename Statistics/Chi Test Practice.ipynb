{
 "cells": [
  {
   "cell_type": "code",
   "execution_count": 1,
   "id": "a321d91f",
   "metadata": {},
   "outputs": [],
   "source": [
    "import scipy.stats as stat\n",
    "import numpy as np"
   ]
  },
  {
   "cell_type": "code",
   "execution_count": 23,
   "id": "07c9a268",
   "metadata": {},
   "outputs": [],
   "source": [
    "expectated_value = [8,2,1,3,5]\n",
    "observed_value = [2,3,5,1,8]"
   ]
  },
  {
   "cell_type": "code",
   "execution_count": 24,
   "id": "2378502d",
   "metadata": {},
   "outputs": [
    {
     "data": {
      "text/plain": [
       "(19, 19)"
      ]
     },
     "execution_count": 24,
     "metadata": {},
     "output_type": "execute_result"
    }
   ],
   "source": [
    "sum(expectated_value),sum(observed_value)"
   ]
  },
  {
   "cell_type": "code",
   "execution_count": 25,
   "id": "d53a1c60",
   "metadata": {},
   "outputs": [],
   "source": [
    "chisquare_test_staistics,p_value = stat.chisquare(observed_value,expectated_value)"
   ]
  },
  {
   "cell_type": "code",
   "execution_count": 26,
   "id": "5e87cac9",
   "metadata": {},
   "outputs": [
    {
     "data": {
      "text/plain": [
       "(24.133333333333333, 7.510659336766632e-05)"
      ]
     },
     "execution_count": 26,
     "metadata": {},
     "output_type": "execute_result"
    }
   ],
   "source": [
    "chisquare_test_staistics,p_value"
   ]
  },
  {
   "cell_type": "code",
   "execution_count": 33,
   "id": "2bebd1ff",
   "metadata": {},
   "outputs": [
    {
     "name": "stdout",
     "output_type": "stream",
     "text": [
      "4\n"
     ]
    }
   ],
   "source": [
    "#. It should be compared to a predetermined significance level (usually denoted as alpha) to make a conclusion about the statistical significance of the test. Commonly used significance levels are 0.05 and 0.01, which correspond to 5% and 1% significance, respectively.\n",
    "significance_value = 0.05\n",
    "dof = len(expectated_value) - 1 # k- 1 formula\n",
    "print(dof)\n",
    "critcal_value = stat.chi2.ppf(1-significance_value,dof)\n",
    "\n"
   ]
  },
  {
   "cell_type": "code",
   "execution_count": 34,
   "id": "ec4c76cc",
   "metadata": {},
   "outputs": [
    {
     "data": {
      "text/plain": [
       "9.487729036781154"
      ]
     },
     "execution_count": 34,
     "metadata": {},
     "output_type": "execute_result"
    }
   ],
   "source": [
    "critcal_value"
   ]
  },
  {
   "cell_type": "code",
   "execution_count": 35,
   "id": "1a51fe5b",
   "metadata": {},
   "outputs": [
    {
     "name": "stdout",
     "output_type": "stream",
     "text": [
      "We reject the null hypothesis\n"
     ]
    }
   ],
   "source": [
    "if chisquare_test_staistics > critcal_value:\n",
    "    print(\"We reject the null hypothesis\")\n",
    "    \n",
    "else :\n",
    "    print(\"accept he null hypothesis\")"
   ]
  },
  {
   "cell_type": "code",
   "execution_count": null,
   "id": "04f567ba",
   "metadata": {},
   "outputs": [],
   "source": []
  }
 ],
 "metadata": {
  "kernelspec": {
   "display_name": "Python 3 (ipykernel)",
   "language": "python",
   "name": "python3"
  },
  "language_info": {
   "codemirror_mode": {
    "name": "ipython",
    "version": 3
   },
   "file_extension": ".py",
   "mimetype": "text/x-python",
   "name": "python",
   "nbconvert_exporter": "python",
   "pygments_lexer": "ipython3",
   "version": "3.11.2"
  }
 },
 "nbformat": 4,
 "nbformat_minor": 5
}
