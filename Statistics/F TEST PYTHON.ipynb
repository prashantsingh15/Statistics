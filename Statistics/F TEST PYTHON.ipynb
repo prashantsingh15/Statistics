{
 "cells": [
  {
   "cell_type": "markdown",
   "id": "78cc003a",
   "metadata": {},
   "source": [
    "## F test With Python\n"
   ]
  },
  {
   "cell_type": "code",
   "execution_count": 1,
   "id": "4c7f54d8",
   "metadata": {},
   "outputs": [],
   "source": [
    "## Evidence to say the two population variances are not equal .\n",
    "## Both the perfomance is different"
   ]
  },
  {
   "cell_type": "code",
   "execution_count": 2,
   "id": "e62813bd",
   "metadata": {},
   "outputs": [],
   "source": [
    "worker1 = [18,19,22,25,27,28,41,45,51, 55]\n",
    "worker2 = [14, 15, 15, 17, 18, 22, 25, 25, 27, 34]"
   ]
  },
  {
   "cell_type": "code",
   "execution_count": 3,
   "id": "ab6f00ae",
   "metadata": {},
   "outputs": [],
   "source": [
    "## Calculating the F TEst\n",
    "import scipy.stats as stat\n",
    "import numpy as np\n",
    "f_test = np.var(worker1) / np.var(worker2)"
   ]
  },
  {
   "cell_type": "code",
   "execution_count": 4,
   "id": "f84743e1",
   "metadata": {},
   "outputs": [
    {
     "data": {
      "text/plain": [
       "4.387122002085506"
      ]
     },
     "execution_count": 4,
     "metadata": {},
     "output_type": "execute_result"
    }
   ],
   "source": [
    "f_test"
   ]
  },
  {
   "cell_type": "code",
   "execution_count": 5,
   "id": "7dcb6a23",
   "metadata": {},
   "outputs": [],
   "source": [
    "## Degree of freedom\n",
    "\n",
    "df1 = len(worker1) - 1\n",
    "df2 = len(worker2) - 1\n",
    "significance_value = 0.05"
   ]
  },
  {
   "cell_type": "code",
   "execution_count": 6,
   "id": "aaea3be7",
   "metadata": {},
   "outputs": [],
   "source": [
    "## Dfn -- degree of freedom numerator , dfd - degree of freedom denominator\n",
    "critical_value = stat.f.ppf(q = 1- significance_value,dfn = df1,dfd = df2 )"
   ]
  },
  {
   "cell_type": "code",
   "execution_count": 7,
   "id": "ad383be1",
   "metadata": {},
   "outputs": [
    {
     "data": {
      "text/plain": [
       "3.17889310445827"
      ]
     },
     "execution_count": 7,
     "metadata": {},
     "output_type": "execute_result"
    }
   ],
   "source": [
    "critical_value"
   ]
  },
  {
   "cell_type": "code",
   "execution_count": 8,
   "id": "6c023a33",
   "metadata": {},
   "outputs": [
    {
     "name": "stdout",
     "output_type": "stream",
     "text": [
      "Reject the Null Hypothesis\n"
     ]
    }
   ],
   "source": [
    "if f_test > critical_value:\n",
    "    print(\"Reject the Null Hypothesis\")\n",
    "    \n",
    "else:\n",
    "    print(\"We fail to Reject the Null Hypothesis\")"
   ]
  }
 ],
 "metadata": {
  "kernelspec": {
   "display_name": "Python 3 (ipykernel)",
   "language": "python",
   "name": "python3"
  },
  "language_info": {
   "codemirror_mode": {
    "name": "ipython",
    "version": 3
   },
   "file_extension": ".py",
   "mimetype": "text/x-python",
   "name": "python",
   "nbconvert_exporter": "python",
   "pygments_lexer": "ipython3",
   "version": "3.11.2"
  }
 },
 "nbformat": 4,
 "nbformat_minor": 5
}
